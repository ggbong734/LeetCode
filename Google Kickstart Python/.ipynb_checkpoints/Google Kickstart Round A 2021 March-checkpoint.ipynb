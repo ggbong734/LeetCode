{
 "cells": [
  {
   "cell_type": "code",
   "execution_count": 3,
   "id": "romance-austria",
   "metadata": {},
   "outputs": [
    {
     "name": "stdout",
     "output_type": "stream",
     "text": [
      "\n"
     ]
    },
    {
     "ename": "ValueError",
     "evalue": "invalid literal for int() with base 10: ''",
     "output_type": "error",
     "traceback": [
      "\u001b[1;31m---------------------------------------------------------------------------\u001b[0m",
      "\u001b[1;31mValueError\u001b[0m                                Traceback (most recent call last)",
      "\u001b[1;32m<ipython-input-3-5c5f59593c3f>\u001b[0m in \u001b[0;36m<module>\u001b[1;34m\u001b[0m\n\u001b[0;32m      1\u001b[0m \u001b[1;31m# Question 1 of Google Kickstart 2021 round A\u001b[0m\u001b[1;33m\u001b[0m\u001b[1;33m\u001b[0m\u001b[1;33m\u001b[0m\u001b[0m\n\u001b[0;32m      2\u001b[0m \u001b[1;33m\u001b[0m\u001b[0m\n\u001b[1;32m----> 3\u001b[1;33m \u001b[0mT\u001b[0m \u001b[1;33m=\u001b[0m \u001b[0mint\u001b[0m\u001b[1;33m(\u001b[0m\u001b[0minput\u001b[0m\u001b[1;33m(\u001b[0m\u001b[1;33m)\u001b[0m\u001b[1;33m)\u001b[0m\u001b[1;33m\u001b[0m\u001b[1;33m\u001b[0m\u001b[0m\n\u001b[0m\u001b[0;32m      4\u001b[0m \u001b[1;32mfor\u001b[0m \u001b[0mx\u001b[0m \u001b[1;32min\u001b[0m \u001b[0mrange\u001b[0m\u001b[1;33m(\u001b[0m\u001b[1;36m1\u001b[0m\u001b[1;33m,\u001b[0m \u001b[0mT\u001b[0m \u001b[1;33m+\u001b[0m \u001b[1;36m1\u001b[0m\u001b[1;33m)\u001b[0m\u001b[1;33m:\u001b[0m\u001b[1;33m\u001b[0m\u001b[1;33m\u001b[0m\u001b[0m\n\u001b[0;32m      5\u001b[0m     \u001b[0mN\u001b[0m\u001b[1;33m,\u001b[0m \u001b[0mK\u001b[0m \u001b[1;33m=\u001b[0m \u001b[0mmap\u001b[0m\u001b[1;33m(\u001b[0m\u001b[0mint\u001b[0m\u001b[1;33m,\u001b[0m \u001b[0minput\u001b[0m\u001b[1;33m(\u001b[0m\u001b[1;33m)\u001b[0m\u001b[1;33m.\u001b[0m\u001b[0msplit\u001b[0m\u001b[1;33m(\u001b[0m\u001b[1;33m)\u001b[0m\u001b[1;33m)\u001b[0m\u001b[1;33m\u001b[0m\u001b[1;33m\u001b[0m\u001b[0m\n",
      "\u001b[1;31mValueError\u001b[0m: invalid literal for int() with base 10: ''"
     ]
    }
   ],
   "source": [
    "# Question 1 of Google Kickstart 2021 round A\n",
    "# https://codingcompetitions.withgoogle.com/kickstart/round/0000000000436140\n",
    "\n",
    "T = int(input())\n",
    "for x in range(1, T + 1):\n",
    "    N, K = map(int, input().split())\n",
    "    S = str(input())\n",
    "    diff = 0\n",
    "    for i in range(len(N//2)):\n",
    "        if S[i] == S[N-1-i]:\n",
    "            diff += 1\n",
    "    ans = abs(K-diff)\n",
    "    print(\"Case #{}: {}\".format(x, ans), flush = True)"
   ]
  },
  {
   "cell_type": "code",
   "execution_count": 4,
   "id": "approximate-laundry",
   "metadata": {},
   "outputs": [
    {
     "name": "stdout",
     "output_type": "stream",
     "text": [
      "\n"
     ]
    },
    {
     "ename": "ValueError",
     "evalue": "invalid literal for int() with base 10: ''",
     "output_type": "error",
     "traceback": [
      "\u001b[1;31m---------------------------------------------------------------------------\u001b[0m",
      "\u001b[1;31mValueError\u001b[0m                                Traceback (most recent call last)",
      "\u001b[1;32m<ipython-input-4-b56f021a6b96>\u001b[0m in \u001b[0;36m<module>\u001b[1;34m\u001b[0m\n\u001b[0;32m      1\u001b[0m \u001b[1;31m# Question 2 of Google Kickstart 2021 round A\u001b[0m\u001b[1;33m\u001b[0m\u001b[1;33m\u001b[0m\u001b[1;33m\u001b[0m\u001b[0m\n\u001b[0;32m      2\u001b[0m \u001b[1;33m\u001b[0m\u001b[0m\n\u001b[1;32m----> 3\u001b[1;33m \u001b[0mT\u001b[0m \u001b[1;33m=\u001b[0m \u001b[0mint\u001b[0m\u001b[1;33m(\u001b[0m\u001b[0minput\u001b[0m\u001b[1;33m(\u001b[0m\u001b[1;33m)\u001b[0m\u001b[1;33m)\u001b[0m\u001b[1;33m\u001b[0m\u001b[1;33m\u001b[0m\u001b[0m\n\u001b[0m\u001b[0;32m      4\u001b[0m \u001b[1;32mfor\u001b[0m \u001b[0mx\u001b[0m \u001b[1;32min\u001b[0m \u001b[0mrange\u001b[0m\u001b[1;33m(\u001b[0m\u001b[1;36m1\u001b[0m\u001b[1;33m,\u001b[0m \u001b[0mT\u001b[0m \u001b[1;33m+\u001b[0m \u001b[1;36m1\u001b[0m\u001b[1;33m)\u001b[0m\u001b[1;33m:\u001b[0m\u001b[1;33m\u001b[0m\u001b[1;33m\u001b[0m\u001b[0m\n\u001b[0;32m      5\u001b[0m     \u001b[0mR\u001b[0m\u001b[1;33m,\u001b[0m \u001b[0mC\u001b[0m \u001b[1;33m=\u001b[0m \u001b[0mmap\u001b[0m\u001b[1;33m(\u001b[0m\u001b[0mint\u001b[0m\u001b[1;33m,\u001b[0m \u001b[0minput\u001b[0m\u001b[1;33m(\u001b[0m\u001b[1;33m)\u001b[0m\u001b[1;33m.\u001b[0m\u001b[0msplit\u001b[0m\u001b[1;33m(\u001b[0m\u001b[1;33m)\u001b[0m\u001b[1;33m)\u001b[0m\u001b[1;33m\u001b[0m\u001b[1;33m\u001b[0m\u001b[0m\n",
      "\u001b[1;31mValueError\u001b[0m: invalid literal for int() with base 10: ''"
     ]
    }
   ],
   "source": [
    "# Question 2 of Google Kickstart 2021 round A\n",
    "\n",
    "T = int(input())\n",
    "for x in range(1, T + 1):\n",
    "    R, C = map(int, input().split())\n",
    "    grid=[[0 for cols in range(C)] for rows in range(R)]\n",
    "    for r in range(R):\n",
    "        row_nums = map(int, input().split())\n",
    "        for c in range(C):\n",
    "            if row_nums[c] == 1: \n",
    "                grid[r][c] = 1\n",
    "    \n",
    "    for x in len(grid):\n",
    "        for y in len(grid[0]):\n",
    "            print(grid[x][y])\n",
    "    #print(\"Case #{}: {}\".format(x, ans), flush = True)"
   ]
  },
  {
   "cell_type": "code",
   "execution_count": 30,
   "id": "secondary-personal",
   "metadata": {},
   "outputs": [
    {
     "ename": "SyntaxError",
     "evalue": "invalid syntax (<ipython-input-30-2a1928f335cd>, line 59)",
     "output_type": "error",
     "traceback": [
      "\u001b[1;36m  File \u001b[1;32m\"<ipython-input-30-2a1928f335cd>\"\u001b[1;36m, line \u001b[1;32m59\u001b[0m\n\u001b[1;33m    num_L[r][c] = max(min((up-2)//2, left-1),0) +\u001b[0m\n\u001b[1;37m                                                  ^\u001b[0m\n\u001b[1;31mSyntaxError\u001b[0m\u001b[1;31m:\u001b[0m invalid syntax\n"
     ]
    }
   ],
   "source": [
    "# Question 2 of Google Kickstart 2021 round A\n",
    "# https://codingcompetitions.withgoogle.com/kickstart/round/0000000000436140/000000000068c509\n",
    "\n",
    "import copy\n",
    "\n",
    "T = int(input())\n",
    "for x in range(1, T + 1):\n",
    "    R, C = map(int, input().split())\n",
    "    grid=[]\n",
    "    for r in range(R):\n",
    "        row_nums = map(int, input().split())\n",
    "        row = []\n",
    "        for num in row_nums: \n",
    "            row.append(num)\n",
    "        grid.append(row)\n",
    "    \n",
    "    # create copy of grid to sum up lengths\n",
    "    grid_sum_up = copy.deepcopy(grid)\n",
    "    grid_sum_down = copy.deepcopy(grid)       \n",
    "    grid_sum_left = copy.deepcopy(grid)\n",
    "    grid_sum_right = copy.deepcopy(grid)\n",
    "\n",
    "    for x in range(R):\n",
    "        for y in range(C):\n",
    "            if grid[x][y] == 1:\n",
    "                if (x > 0) and (grid_sum_up[x-1][y] > 0):\n",
    "                    grid_sum_up[x][y] = 1 + grid_sum_up[x-1][y]\n",
    "                if (y > 0) and (grid_sum_left[x][y-1] > 0):\n",
    "                    grid_sum_left[x][y] = 1 + grid_sum_left[x][y-1]\n",
    "\n",
    "    for x in range(R-1, -1, -1):\n",
    "        for y in range(C-1, -1, -1):\n",
    "            if grid[x][y] == 1:\n",
    "                if (x < R-1) and (grid_sum_down[x+1][y] > 0):\n",
    "                    grid_sum_down[x][y] = 1 + grid_sum_down[x+1][y]\n",
    "                if (y < C-1) and (grid_sum_right[x][y+1] > 0):\n",
    "                    grid_sum_right[x][y] = 1 + grid_sum_right[x][y+1]\n",
    "\n",
    "    # for each cell calculate the number of possible L's that can be formed\n",
    "    # there are a total of 8 possibilities for L \n",
    "    # long top short left or long top short right\n",
    "    # long down short left or long down short right\n",
    "    # short top long left or short top long right\n",
    "    # short down long left or short down long right\n",
    "    num_L = grid.copy()\n",
    "    for r in range(R):\n",
    "        for c in range(C):\n",
    "            up = grid_sum_up[r][c]\n",
    "            down = grid_sum_down[r][c]\n",
    "            left = grid_sum_left[r][c]\n",
    "            right = grid_sum_right[r][c]\n",
    "\n",
    "            num_L[r][c] = max(min((up-2)//2, left-1),0) + \\\n",
    "            max(min((up-2)//2, right-1),0) + \\\n",
    "            max(min((down-2)//2, left-1),0) + \\\n",
    "            max(min((down-2)//2, right-1),0) + \\\n",
    "            max(min(up-1, (left-2)//2),0) + \\\n",
    "            max(min(up-1, (right-2)//2),0) + \\\n",
    "            max(min(down-1, (left-2)//2),0) + \\\n",
    "            max(min(down-1, (right-2)//2),0)\n",
    "\n",
    "    ans = 0\n",
    "    for r in range(R):\n",
    "        for c in range(C):\n",
    "            ans += num_L[r][c]\n",
    "            \n",
    "    print(\"Case #{}: {}\".format(x, ans), flush = True)"
   ]
  },
  {
   "cell_type": "code",
   "execution_count": 27,
   "id": "aquatic-ordinance",
   "metadata": {},
   "outputs": [],
   "source": [
    "grid = [[1,0,0,0],\n",
    "        [1,0,0,1],\n",
    "        [1,1,1,1],\n",
    "        [1,0,1,0],\n",
    "        [1,0,1,0],\n",
    "        [1,1,1,0]]"
   ]
  },
  {
   "cell_type": "code",
   "execution_count": 28,
   "id": "color-novel",
   "metadata": {},
   "outputs": [],
   "source": [
    "R = 6\n",
    "C = 4\n",
    "     \n",
    "import copy\n",
    "\n",
    "grid_sum_up = copy.deepcopy(grid)\n",
    "grid_sum_down = copy.deepcopy(grid)       \n",
    "grid_sum_left = copy.deepcopy(grid)\n",
    "grid_sum_right = copy.deepcopy(grid)\n",
    "\n",
    "for x in range(R):\n",
    "    for y in range(C):\n",
    "        if grid[x][y] == 1:\n",
    "            if (x > 0) and (grid_sum_up[x-1][y] > 0):\n",
    "                grid_sum_up[x][y] = 1 + grid_sum_up[x-1][y]\n",
    "            if (y > 0) and (grid_sum_left[x][y-1] > 0):\n",
    "                grid_sum_left[x][y] = 1 + grid_sum_left[x][y-1]\n",
    "\n",
    "for x in range(R-1, -1, -1):\n",
    "    for y in range(C-1, -1, -1):\n",
    "        if grid[x][y] == 1:\n",
    "            if (x < R-1) and (grid_sum_down[x+1][y] > 0):\n",
    "                grid_sum_down[x][y] = 1 + grid_sum_down[x+1][y]\n",
    "            if (y < C-1) and (grid_sum_right[x][y+1] > 0):\n",
    "                grid_sum_right[x][y] = 1 + grid_sum_right[x][y+1]\n",
    "    \n",
    "# for each cell calculate the number of possible L's that can be formed\n",
    "# there are a total of 8 possibilities for L \n",
    "# long top short left or long top short right\n",
    "# long down short left or long down short right\n",
    "# short top long left or short top long right\n",
    "# short down long left or short down long right\n",
    "num_L = copy.deepcopy(grid)\n",
    "for r in range(R):\n",
    "    for c in range(C):\n",
    "        up = grid_sum_up[r][c]\n",
    "        down = grid_sum_down[r][c]\n",
    "        left = grid_sum_left[r][c]\n",
    "        right = grid_sum_right[r][c]\n",
    "    \n",
    "        num_L[r][c] = max(min((up-2)//2, left-1),0) + \\\n",
    "        max(min((up-2)//2, right-1),0) + \\\n",
    "        max(min((down-2)//2, left-1),0) + \\\n",
    "        max(min((down-2)//2, right-1),0) + \\\n",
    "        max(min(up-1, (left-2)//2),0) + \\\n",
    "        max(min(up-1, (right-2)//2),0) + \\\n",
    "        max(min(down-1, (left-2)//2),0) + \\\n",
    "        max(min(down-1, (right-2)//2),0)\n",
    "\n",
    "ans = 0\n",
    "for r in range(R):\n",
    "    for c in range(C):\n",
    "        ans += num_L[r][c]"
   ]
  },
  {
   "cell_type": "code",
   "execution_count": 29,
   "id": "looking-composer",
   "metadata": {},
   "outputs": [
    {
     "data": {
      "text/plain": [
       "9"
      ]
     },
     "execution_count": 29,
     "metadata": {},
     "output_type": "execute_result"
    }
   ],
   "source": [
    "ans"
   ]
  },
  {
   "cell_type": "code",
   "execution_count": null,
   "id": "sustainable-special",
   "metadata": {},
   "outputs": [],
   "source": []
  },
  {
   "cell_type": "code",
   "execution_count": 30,
   "id": "streaming-prerequisite",
   "metadata": {},
   "outputs": [
    {
     "data": {
      "text/plain": [
       "[[1, 0, 0, 0],\n",
       " [2, 0, 0, 1],\n",
       " [3, 1, 1, 2],\n",
       " [4, 0, 2, 0],\n",
       " [5, 0, 3, 0],\n",
       " [6, 1, 4, 0]]"
      ]
     },
     "execution_count": 30,
     "metadata": {},
     "output_type": "execute_result"
    }
   ],
   "source": [
    "grid_sum_up"
   ]
  },
  {
   "cell_type": "code",
   "execution_count": 31,
   "id": "formed-comparison",
   "metadata": {},
   "outputs": [
    {
     "data": {
      "text/plain": [
       "[[6, 0, 0, 0],\n",
       " [5, 0, 0, 2],\n",
       " [4, 1, 4, 1],\n",
       " [3, 0, 3, 0],\n",
       " [2, 0, 2, 0],\n",
       " [1, 1, 1, 0]]"
      ]
     },
     "execution_count": 31,
     "metadata": {},
     "output_type": "execute_result"
    }
   ],
   "source": [
    "grid_sum_down"
   ]
  },
  {
   "cell_type": "code",
   "execution_count": 20,
   "id": "super-bankruptcy",
   "metadata": {},
   "outputs": [
    {
     "data": {
      "text/plain": [
       "[[1, 0, 0, 0],\n",
       " [1, 0, 0, 1],\n",
       " [1, 1, 1, 1],\n",
       " [1, 0, 1, 0],\n",
       " [1, 0, 1, 0],\n",
       " [1, 1, 1, 0]]"
      ]
     },
     "execution_count": 20,
     "metadata": {},
     "output_type": "execute_result"
    }
   ],
   "source": [
    "grid"
   ]
  },
  {
   "cell_type": "code",
   "execution_count": 14,
   "id": "animated-imperial",
   "metadata": {},
   "outputs": [
    {
     "data": {
      "text/plain": [
       "[[0, 0, 0, 0],\n",
       " [0, 0, 0, 0],\n",
       " [3, 0, 2, 1],\n",
       " [0, 0, 0, 0],\n",
       " [0, 0, 0, 0],\n",
       " [2, 0, 1, 0]]"
      ]
     },
     "execution_count": 14,
     "metadata": {},
     "output_type": "execute_result"
    }
   ],
   "source": [
    "num_L"
   ]
  },
  {
   "cell_type": "code",
   "execution_count": null,
   "id": "fundamental-gender",
   "metadata": {},
   "outputs": [],
   "source": []
  }
 ],
 "metadata": {
  "kernelspec": {
   "display_name": "Python 3",
   "language": "python",
   "name": "python3"
  },
  "language_info": {
   "codemirror_mode": {
    "name": "ipython",
    "version": 3
   },
   "file_extension": ".py",
   "mimetype": "text/x-python",
   "name": "python",
   "nbconvert_exporter": "python",
   "pygments_lexer": "ipython3",
   "version": "3.8.5"
  }
 },
 "nbformat": 4,
 "nbformat_minor": 5
}
