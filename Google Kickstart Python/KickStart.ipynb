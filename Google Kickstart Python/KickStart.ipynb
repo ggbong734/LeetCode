{
 "cells": [
  {
   "cell_type": "code",
   "execution_count": 118,
   "metadata": {},
   "outputs": [
    {
     "name": "stdout",
     "output_type": "stream",
     "text": [
      "4\n",
      "SSEEE\n",
      "Case #1: 4 3\n",
      "SEEE2(EW)\n",
      "Case #2: 4 2\n"
     ]
    },
    {
     "ename": "KeyboardInterrupt",
     "evalue": "",
     "output_type": "error",
     "traceback": [
      "\u001b[0;31m---------------------------------------------------------------------------\u001b[0m",
      "\u001b[0;31mKeyboardInterrupt\u001b[0m                         Traceback (most recent call last)",
      "\u001b[0;32m~/anaconda3/lib/python3.7/site-packages/ipykernel/kernelbase.py\u001b[0m in \u001b[0;36m_input_request\u001b[0;34m(self, prompt, ident, parent, password)\u001b[0m\n\u001b[1;32m    883\u001b[0m             \u001b[0;32mtry\u001b[0m\u001b[0;34m:\u001b[0m\u001b[0;34m\u001b[0m\u001b[0;34m\u001b[0m\u001b[0m\n\u001b[0;32m--> 884\u001b[0;31m                 \u001b[0mident\u001b[0m\u001b[0;34m,\u001b[0m \u001b[0mreply\u001b[0m \u001b[0;34m=\u001b[0m \u001b[0mself\u001b[0m\u001b[0;34m.\u001b[0m\u001b[0msession\u001b[0m\u001b[0;34m.\u001b[0m\u001b[0mrecv\u001b[0m\u001b[0;34m(\u001b[0m\u001b[0mself\u001b[0m\u001b[0;34m.\u001b[0m\u001b[0mstdin_socket\u001b[0m\u001b[0;34m,\u001b[0m \u001b[0;36m0\u001b[0m\u001b[0;34m)\u001b[0m\u001b[0;34m\u001b[0m\u001b[0;34m\u001b[0m\u001b[0m\n\u001b[0m\u001b[1;32m    885\u001b[0m             \u001b[0;32mexcept\u001b[0m \u001b[0mException\u001b[0m\u001b[0;34m:\u001b[0m\u001b[0;34m\u001b[0m\u001b[0;34m\u001b[0m\u001b[0m\n",
      "\u001b[0;32m~/anaconda3/lib/python3.7/site-packages/jupyter_client/session.py\u001b[0m in \u001b[0;36mrecv\u001b[0;34m(self, socket, mode, content, copy)\u001b[0m\n\u001b[1;32m    802\u001b[0m         \u001b[0;32mtry\u001b[0m\u001b[0;34m:\u001b[0m\u001b[0;34m\u001b[0m\u001b[0;34m\u001b[0m\u001b[0m\n\u001b[0;32m--> 803\u001b[0;31m             \u001b[0mmsg_list\u001b[0m \u001b[0;34m=\u001b[0m \u001b[0msocket\u001b[0m\u001b[0;34m.\u001b[0m\u001b[0mrecv_multipart\u001b[0m\u001b[0;34m(\u001b[0m\u001b[0mmode\u001b[0m\u001b[0;34m,\u001b[0m \u001b[0mcopy\u001b[0m\u001b[0;34m=\u001b[0m\u001b[0mcopy\u001b[0m\u001b[0;34m)\u001b[0m\u001b[0;34m\u001b[0m\u001b[0;34m\u001b[0m\u001b[0m\n\u001b[0m\u001b[1;32m    804\u001b[0m         \u001b[0;32mexcept\u001b[0m \u001b[0mzmq\u001b[0m\u001b[0;34m.\u001b[0m\u001b[0mZMQError\u001b[0m \u001b[0;32mas\u001b[0m \u001b[0me\u001b[0m\u001b[0;34m:\u001b[0m\u001b[0;34m\u001b[0m\u001b[0;34m\u001b[0m\u001b[0m\n",
      "\u001b[0;32m~/anaconda3/lib/python3.7/site-packages/zmq/sugar/socket.py\u001b[0m in \u001b[0;36mrecv_multipart\u001b[0;34m(self, flags, copy, track)\u001b[0m\n\u001b[1;32m    474\u001b[0m         \"\"\"\n\u001b[0;32m--> 475\u001b[0;31m         \u001b[0mparts\u001b[0m \u001b[0;34m=\u001b[0m \u001b[0;34m[\u001b[0m\u001b[0mself\u001b[0m\u001b[0;34m.\u001b[0m\u001b[0mrecv\u001b[0m\u001b[0;34m(\u001b[0m\u001b[0mflags\u001b[0m\u001b[0;34m,\u001b[0m \u001b[0mcopy\u001b[0m\u001b[0;34m=\u001b[0m\u001b[0mcopy\u001b[0m\u001b[0;34m,\u001b[0m \u001b[0mtrack\u001b[0m\u001b[0;34m=\u001b[0m\u001b[0mtrack\u001b[0m\u001b[0;34m)\u001b[0m\u001b[0;34m]\u001b[0m\u001b[0;34m\u001b[0m\u001b[0;34m\u001b[0m\u001b[0m\n\u001b[0m\u001b[1;32m    476\u001b[0m         \u001b[0;31m# have first part already, only loop while more to receive\u001b[0m\u001b[0;34m\u001b[0m\u001b[0;34m\u001b[0m\u001b[0;34m\u001b[0m\u001b[0m\n",
      "\u001b[0;32mzmq/backend/cython/socket.pyx\u001b[0m in \u001b[0;36mzmq.backend.cython.socket.Socket.recv\u001b[0;34m()\u001b[0m\n",
      "\u001b[0;32mzmq/backend/cython/socket.pyx\u001b[0m in \u001b[0;36mzmq.backend.cython.socket.Socket.recv\u001b[0;34m()\u001b[0m\n",
      "\u001b[0;32mzmq/backend/cython/socket.pyx\u001b[0m in \u001b[0;36mzmq.backend.cython.socket._recv_copy\u001b[0;34m()\u001b[0m\n",
      "\u001b[0;32m~/anaconda3/lib/python3.7/site-packages/zmq/backend/cython/checkrc.pxd\u001b[0m in \u001b[0;36mzmq.backend.cython.checkrc._check_rc\u001b[0;34m()\u001b[0m\n",
      "\u001b[0;31mKeyboardInterrupt\u001b[0m: ",
      "\nDuring handling of the above exception, another exception occurred:\n",
      "\u001b[0;31mKeyboardInterrupt\u001b[0m                         Traceback (most recent call last)",
      "\u001b[0;32m<ipython-input-118-c259ed1f6535>\u001b[0m in \u001b[0;36m<module>\u001b[0;34m\u001b[0m\n\u001b[1;32m      4\u001b[0m \u001b[0mt\u001b[0m \u001b[0;34m=\u001b[0m \u001b[0mint\u001b[0m\u001b[0;34m(\u001b[0m\u001b[0minput\u001b[0m\u001b[0;34m(\u001b[0m\u001b[0;34m)\u001b[0m\u001b[0;34m)\u001b[0m \u001b[0;31m# read a line with a single integer\u001b[0m\u001b[0;34m\u001b[0m\u001b[0;34m\u001b[0m\u001b[0m\n\u001b[1;32m      5\u001b[0m \u001b[0;32mfor\u001b[0m \u001b[0mi\u001b[0m \u001b[0;32min\u001b[0m \u001b[0mrange\u001b[0m\u001b[0;34m(\u001b[0m\u001b[0;36m1\u001b[0m\u001b[0;34m,\u001b[0m \u001b[0mt\u001b[0m \u001b[0;34m+\u001b[0m \u001b[0;36m1\u001b[0m\u001b[0;34m)\u001b[0m\u001b[0;34m:\u001b[0m\u001b[0;34m\u001b[0m\u001b[0;34m\u001b[0m\u001b[0m\n\u001b[0;32m----> 6\u001b[0;31m     \u001b[0ms\u001b[0m \u001b[0;34m=\u001b[0m \u001b[0minput\u001b[0m\u001b[0;34m(\u001b[0m\u001b[0;34m)\u001b[0m\u001b[0;34m\u001b[0m\u001b[0;34m\u001b[0m\u001b[0m\n\u001b[0m\u001b[1;32m      7\u001b[0m \u001b[0;34m\u001b[0m\u001b[0m\n\u001b[1;32m      8\u001b[0m     \u001b[0mmod\u001b[0m \u001b[0;34m=\u001b[0m \u001b[0;36m1e9\u001b[0m\u001b[0;34m\u001b[0m\u001b[0;34m\u001b[0m\u001b[0m\n",
      "\u001b[0;32m~/anaconda3/lib/python3.7/site-packages/ipykernel/kernelbase.py\u001b[0m in \u001b[0;36mraw_input\u001b[0;34m(self, prompt)\u001b[0m\n\u001b[1;32m    857\u001b[0m             \u001b[0mself\u001b[0m\u001b[0;34m.\u001b[0m\u001b[0m_parent_ident\u001b[0m\u001b[0;34m,\u001b[0m\u001b[0;34m\u001b[0m\u001b[0;34m\u001b[0m\u001b[0m\n\u001b[1;32m    858\u001b[0m             \u001b[0mself\u001b[0m\u001b[0;34m.\u001b[0m\u001b[0m_parent_header\u001b[0m\u001b[0;34m,\u001b[0m\u001b[0;34m\u001b[0m\u001b[0;34m\u001b[0m\u001b[0m\n\u001b[0;32m--> 859\u001b[0;31m             \u001b[0mpassword\u001b[0m\u001b[0;34m=\u001b[0m\u001b[0;32mFalse\u001b[0m\u001b[0;34m,\u001b[0m\u001b[0;34m\u001b[0m\u001b[0;34m\u001b[0m\u001b[0m\n\u001b[0m\u001b[1;32m    860\u001b[0m         )\n\u001b[1;32m    861\u001b[0m \u001b[0;34m\u001b[0m\u001b[0m\n",
      "\u001b[0;32m~/anaconda3/lib/python3.7/site-packages/ipykernel/kernelbase.py\u001b[0m in \u001b[0;36m_input_request\u001b[0;34m(self, prompt, ident, parent, password)\u001b[0m\n\u001b[1;32m    887\u001b[0m             \u001b[0;32mexcept\u001b[0m \u001b[0mKeyboardInterrupt\u001b[0m\u001b[0;34m:\u001b[0m\u001b[0;34m\u001b[0m\u001b[0;34m\u001b[0m\u001b[0m\n\u001b[1;32m    888\u001b[0m                 \u001b[0;31m# re-raise KeyboardInterrupt, to truncate traceback\u001b[0m\u001b[0;34m\u001b[0m\u001b[0;34m\u001b[0m\u001b[0;34m\u001b[0m\u001b[0m\n\u001b[0;32m--> 889\u001b[0;31m                 \u001b[0;32mraise\u001b[0m \u001b[0mKeyboardInterrupt\u001b[0m\u001b[0;34m\u001b[0m\u001b[0;34m\u001b[0m\u001b[0m\n\u001b[0m\u001b[1;32m    890\u001b[0m             \u001b[0;32melse\u001b[0m\u001b[0;34m:\u001b[0m\u001b[0;34m\u001b[0m\u001b[0;34m\u001b[0m\u001b[0m\n\u001b[1;32m    891\u001b[0m                 \u001b[0;32mbreak\u001b[0m\u001b[0;34m\u001b[0m\u001b[0;34m\u001b[0m\u001b[0m\n",
      "\u001b[0;31mKeyboardInterrupt\u001b[0m: "
     ]
    }
   ],
   "source": [
    "# https://codingcompetitions.withgoogle.com/kickstart/round/000000000019ffc8\n",
    "# Round B Problem 3: Robot path decoding\n",
    "\n",
    "t = int(input()) \n",
    "for i in range(1, t + 1):\n",
    "    s = input()\n",
    "  \n",
    "    mod = 1e9\n",
    "    x, y = 0, 0\n",
    "    prev_mult = [1]\n",
    "    mult = 1\n",
    "    for c in s:\n",
    "        if (c >= '2') and (c <= '9'): # if number update current mult, store mult\n",
    "            prev_mult.append(mult)\n",
    "            mult = int(mult * int(c) % mod)\n",
    "\n",
    "        elif c == \"(\": # do nothing\n",
    "            continue\n",
    "\n",
    "        elif c == \")\": # update multiplier\n",
    "            mult = prev_mult.pop()\n",
    "\n",
    "        elif c == \"N\":\n",
    "            y -= mult\n",
    "        elif c == \"S\":\n",
    "            y += mult\n",
    "        elif c == \"E\":\n",
    "            x += mult\n",
    "        elif c == \"W\":\n",
    "            x -= mult\n",
    "\n",
    "    x = (x % mod) + 1\n",
    "    y = (y % mod) + 1\n",
    "\n",
    "    print(\"Case #{}: {} {}\".format(i, int(x), int(y)))"
   ]
  },
  {
   "cell_type": "code",
   "execution_count": 82,
   "metadata": {},
   "outputs": [],
   "source": [
    "s = \"2(3(W)2(N))\"\n",
    "d = \"2(3(NW)2(W2(EE)W))\"\n",
    "e =\"9(9(9(9(9(WE)))))\""
   ]
  },
  {
   "cell_type": "code",
   "execution_count": null,
   "metadata": {},
   "outputs": [],
   "source": [
    "i = 1\n",
    "s = '2(3(NW)2(W2(EE)W))'\n",
    "\n",
    "mod = 1e9\n",
    "x, y = 0, 0\n",
    "prev_mult = [1]\n",
    "mult = 1\n",
    "for c in s:\n",
    "    if (c >= '2') and (c <= '9'):\n",
    "        prev_mult.append(mult)\n",
    "        mult = int(mult * int(c) % mod)\n",
    "\n",
    "    elif c == \"(\": \n",
    "        continue\n",
    "\n",
    "    elif c == \")\":\n",
    "        mult = prev_mult.pop()\n",
    "\n",
    "    elif c == \"N\":\n",
    "        y -= mult\n",
    "    elif c == \"S\":\n",
    "        y += mult\n",
    "    elif c == \"E\":\n",
    "        x += mult\n",
    "    elif c == \"W\":\n",
    "        x -= mult\n",
    "\n",
    "x = (x % mod) + 1\n",
    "y = (y % mod) + 1\n",
    "\n",
    "print(\"Case #{}: {} {}\".format(i, int(x), int(y)))"
   ]
  },
  {
   "cell_type": "code",
   "execution_count": 1,
   "metadata": {},
   "outputs": [
    {
     "data": {
      "text/plain": [
       "1"
      ]
     },
     "execution_count": 1,
     "metadata": {},
     "output_type": "execute_result"
    }
   ],
   "source": [
    "14 % 13"
   ]
  },
  {
   "cell_type": "markdown",
   "metadata": {},
   "source": [
    "### "
   ]
  },
  {
   "cell_type": "code",
   "execution_count": null,
   "metadata": {},
   "outputs": [],
   "source": [
    "# https://codingcompetitions.withgoogle.com/kickstart/round/000000000019ffc8/00000000002d8565\n",
    "# Google Kickstart Round B Problem 4: Wandering Robot\n",
    "\n",
    "t = int(input()) \n",
    "for i in range(1, t + 1):\n",
    "    w, h, x0, y0, x1, y1 = [int(i) for i in input().split(\"\")] # x0,y0 are top left corner of hole\n",
    "    \n",
    "    import numpy as np\n",
    "\n",
    "    nax = 3e5\n",
    "    fac = list(range(int(nax)))\n",
    "    pow2 = list(range(int(nax)))\n",
    "    x0 -= 1 #starting at 0\n",
    "    y0 -= 1\n",
    "\n",
    "    for i in range(1, int(nax)):\n",
    "        fac[i] = fac[i-1] + np.log(i)\n",
    "        pow2[i] = pow2[i-1] + np.log(2)\n",
    "\n",
    "    # combination of selecting k from n, divide by 2^n which is total possible choices\n",
    "    def prob(n,k): \n",
    "        if ((n<0) or (k<0) or (k>n)): return 0\n",
    "        return np.exp(fac[n] - fac[k] - fac[n-k] - pow2[n])\n",
    "\n",
    "    # update probability of getting to a point by considering cases on the right and bottom walls\n",
    "    def f(x,y): \n",
    "        ret = prob(x+y, x)  # prob of getting to a point x, y is the prob of picking x (sideways) from a combination of x+ y down and sideways\n",
    "        if (x == w-1):  # if at the right border, calculate prob of getting to each point above it along the wall\n",
    "            for i in range(w, x+y+1): \n",
    "                ret += prob(x+y, i)\n",
    "        if (y == h-1):  # if  at the bottom border, calculate prob of getting to each point left of it along the wall\n",
    "            for i in range(h, x+y+1):\n",
    "                ret += prob(x+y, i)\n",
    "\n",
    "        return ret\n",
    "\n",
    "    ans = 1  # starting probability of reaching end point\n",
    "\n",
    "    # for each location above ar to the left of the whole, subtract probability of getting to the point * 0.5 if location is not at right or bot wall\n",
    "    for i in range(y0,y1):  \n",
    "        if x0: ans -= f(x0-1, i) * (0.5 if i < h-1 else 1) \n",
    "    for i in range(x0,x1):\n",
    "        if y0: ans -= f(i, y0-1) * (0.5 if i < w-1 else 1)\n",
    "\n",
    "    if x0 == 0 and y0 == 0:\n",
    "        ans = 0\n",
    "\n",
    "    print(\"Case #{}: {}\".format(i, ans))\n"
   ]
  },
  {
   "cell_type": "code",
   "execution_count": 36,
   "metadata": {},
   "outputs": [],
   "source": [
    "w, h, x0, y0, x1, y1 = 6, 4, 1, 3, 3, 4 # test case\n",
    "\n",
    "import numpy as np\n",
    "\n",
    "nax = 3e5\n",
    "fac = list(range(int(nax)))\n",
    "pow2 = list(range(int(nax)))\n",
    "x0 -= 1 #starting at 0\n",
    "y0 -= 1\n",
    "\n",
    "for i in range(1, int(nax)):\n",
    "    fac[i] = fac[i-1] + np.log(i)\n",
    "    pow2[i] = pow2[i-1] + np.log(2)\n",
    "\n",
    "# combination of selecting k from n, divide by 2^n which is total possible choices\n",
    "def prob(n,k): \n",
    "    if ((n<0) or (k<0) or (k>n)): return 0\n",
    "    return np.exp(fac[n] - fac[k] - fac[n-k] - pow2[n])\n",
    "\n",
    "# update probability of getting to a point by considering cases on the right and bottom walls\n",
    "def f(x,y): \n",
    "    ret = prob(x+y, x)  # prob of getting to a point x, y is the prob of picking x (sideways) from a combination of x+ y down and sideways\n",
    "    if (x == w-1):  # if at the right border, calculate prob of getting to each point above it along the wall\n",
    "        for i in range(w, x+y+1): \n",
    "            ret += prob(x+y, i)\n",
    "    if (y == h-1):  # if  at the bottom border, calculate prob of getting to each point left of it along the wall\n",
    "        for i in range(h, x+y+1):\n",
    "            ret += prob(x+y, i)\n",
    "    \n",
    "    return ret\n",
    "\n",
    "ans = 1  # starting probability of reaching end point\n",
    "\n",
    "# for each location above ar to the left of the whole, subtract probability of getting to the point * 0.5 if location is not at right or bot wall\n",
    "for i in range(y0,y1):  \n",
    "    if x0: ans -= f(x0-1, i) * (0.5 if i < h-1 else 1) \n",
    "for i in range(x0,x1):\n",
    "    if y0: ans -= f(i, y0-1) * (0.5 if i < w-1 else 1)\n",
    "\n",
    "if x0 == 0 and y0 == 0:\n",
    "    ans = 0\n"
   ]
  },
  {
   "cell_type": "code",
   "execution_count": 37,
   "metadata": {},
   "outputs": [
    {
     "data": {
      "text/plain": [
       "0.3125"
      ]
     },
     "execution_count": 37,
     "metadata": {},
     "output_type": "execute_result"
    }
   ],
   "source": [
    "ans"
   ]
  },
  {
   "cell_type": "code",
   "execution_count": 13,
   "metadata": {},
   "outputs": [
    {
     "data": {
      "text/plain": [
       "4.0"
      ]
     },
     "execution_count": 13,
     "metadata": {},
     "output_type": "execute_result"
    }
   ],
   "source": [
    "np.exp(np.log(4))"
   ]
  },
  {
   "cell_type": "code",
   "execution_count": null,
   "metadata": {},
   "outputs": [],
   "source": []
  },
  {
   "cell_type": "code",
   "execution_count": null,
   "metadata": {},
   "outputs": [],
   "source": []
  },
  {
   "cell_type": "code",
   "execution_count": null,
   "metadata": {},
   "outputs": [],
   "source": []
  },
  {
   "cell_type": "code",
   "execution_count": null,
   "metadata": {},
   "outputs": [],
   "source": []
  },
  {
   "cell_type": "code",
   "execution_count": null,
   "metadata": {},
   "outputs": [],
   "source": []
  },
  {
   "cell_type": "code",
   "execution_count": null,
   "metadata": {},
   "outputs": [],
   "source": []
  },
  {
   "cell_type": "code",
   "execution_count": null,
   "metadata": {},
   "outputs": [],
   "source": []
  },
  {
   "cell_type": "code",
   "execution_count": null,
   "metadata": {},
   "outputs": [],
   "source": []
  },
  {
   "cell_type": "code",
   "execution_count": null,
   "metadata": {},
   "outputs": [],
   "source": []
  },
  {
   "cell_type": "code",
   "execution_count": null,
   "metadata": {},
   "outputs": [],
   "source": []
  },
  {
   "cell_type": "code",
   "execution_count": null,
   "metadata": {},
   "outputs": [],
   "source": []
  },
  {
   "cell_type": "code",
   "execution_count": null,
   "metadata": {},
   "outputs": [],
   "source": []
  }
 ],
 "metadata": {
  "kernelspec": {
   "display_name": "Python 3",
   "language": "python",
   "name": "python3"
  },
  "language_info": {
   "codemirror_mode": {
    "name": "ipython",
    "version": 3
   },
   "file_extension": ".py",
   "mimetype": "text/x-python",
   "name": "python",
   "nbconvert_exporter": "python",
   "pygments_lexer": "ipython3",
   "version": "3.8.5"
  }
 },
 "nbformat": 4,
 "nbformat_minor": 4
}
